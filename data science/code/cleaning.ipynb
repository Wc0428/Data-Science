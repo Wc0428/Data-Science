{
 "cells": [
  {
   "cell_type": "markdown",
   "metadata": {},
   "source": [
    "# CLEAN POVERTY BY STATE"
   ]
  },
  {
   "cell_type": "code",
   "execution_count": 3,
   "metadata": {},
   "outputs": [],
   "source": [
    "import re\n",
    "import numpy as np\n",
    "import pandas as pd"
   ]
  },
  {
   "cell_type": "code",
   "execution_count": null,
   "metadata": {},
   "outputs": [],
   "source": [
    "#directory of data\n",
    "dir = \"./data/Incidence of absolute poverty by ethnic group, strata and state, Malaysia, 1970 - 2019.txt\""
   ]
  },
  {
   "cell_type": "code",
   "execution_count": null,
   "metadata": {},
   "outputs": [],
   "source": [
    "with open(dir, 'r') as file:\n",
    "    lines = []\n",
    "    # Read lines one by one\n",
    "    for line in file:\n",
    "        lines.append(line.strip())\n",
    "    print(lines)"
   ]
  },
  {
   "cell_type": "code",
   "execution_count": null,
   "metadata": {},
   "outputs": [],
   "source": [
    "import re\n",
    "years = re.sub(r'[a-zA-Z]', '', lines[0]).split(\" \")\n",
    "print(years)"
   ]
  },
  {
   "cell_type": "code",
   "execution_count": null,
   "metadata": {},
   "outputs": [],
   "source": [
    "import numpy as np\n",
    "states = lines[11::]\n",
    "states.append(lines[1])\n",
    "states_clean = []\n",
    "for row in states:\n",
    "    row = row.split(\" \")\n",
    "    row[0] = re.sub(r'-', ' ', row[0])\n",
    "    nan_row = [np.nan if x == 'n.a' else x for x in row]\n",
    "    states_clean.append(nan_row)\n",
    "\n",
    "for line in states_clean:\n",
    "    print(line)"
   ]
  },
  {
   "cell_type": "code",
   "execution_count": null,
   "metadata": {},
   "outputs": [],
   "source": [
    "import pandas as pd\n",
    "poverty_state = empty_df = pd.DataFrame()\n",
    "poverty_state[\"Year\"] = years\n",
    "for line in states_clean:\n",
    "    poverty_state[line[0]] = line[1::]\n",
    "\n",
    "poverty_state"
   ]
  },
  {
   "cell_type": "code",
   "execution_count": null,
   "metadata": {},
   "outputs": [],
   "source": [
    "poverty_state.to_excel('./clean/poverty-by-state.xlsx', index=False)"
   ]
  },
  {
   "cell_type": "markdown",
   "metadata": {},
   "source": [
    "# CLEAN LABOUR BY EDUCATION ATTAINMENT"
   ]
  },
  {
   "cell_type": "code",
   "execution_count": null,
   "metadata": {},
   "outputs": [],
   "source": [
    "import re\n",
    "import numpy as np\n",
    "import pandas as pd"
   ]
  },
  {
   "cell_type": "code",
   "execution_count": 1,
   "metadata": {},
   "outputs": [],
   "source": [
    "dir = \"./data/1. Labour force by educational attainment, Malaysia, 1982–2022.xlsx\""
   ]
  },
  {
   "cell_type": "code",
   "execution_count": 4,
   "metadata": {},
   "outputs": [],
   "source": [
    "# Load the Excel file\n",
    "excel_file = pd.ExcelFile(dir)\n",
    "\n",
    "# Get sheet names\n",
    "sheet_names = excel_file.sheet_names\n",
    "\n",
    "# Convert each sheet to a list\n",
    "data = {}\n",
    "for sheet_name in sheet_names:\n",
    "    data[sheet_name] = pd.read_excel(excel_file, sheet_name=sheet_name).values.tolist()"
   ]
  },
  {
   "cell_type": "code",
   "execution_count": null,
   "metadata": {},
   "outputs": [],
   "source": [
    "def extract_sheet(sheet):\n",
    "    clean_df = pd.DataFrame()\n",
    "    clean_sheet = np.rot90(sheet[4:-3])[0:-1]\n",
    "    for index in range(len(clean_sheet)):\n",
    "        header = clean_sheet[index][0].rstrip()\n",
    "        header = \"Year\" if header == 'nan' else header \n",
    "        clean_df[header] = clean_sheet[index][1::]\n",
    "    return clean_df"
   ]
  },
  {
   "cell_type": "code",
   "execution_count": null,
   "metadata": {},
   "outputs": [],
   "source": [
    "clean_data = {}\n",
    "for sheet_name, sheet_values in data.items():\n",
    "    df = extract_sheet(sheet_values)\n",
    "    if sheet_name != \"MALAYSIA\":\n",
    "        df = df.iloc[:-1]\n",
    "    clean_data[sheet_name] = df"
   ]
  },
  {
   "cell_type": "code",
   "execution_count": null,
   "metadata": {},
   "outputs": [],
   "source": [
    "with pd.ExcelWriter('./clean/labour-by-education-attainment.xlsx') as writer:\n",
    "    for sheet_name, df in clean_data.items():\n",
    "        df.to_excel(writer, sheet_name=sheet_name, index=False)"
   ]
  },
  {
   "cell_type": "markdown",
   "metadata": {},
   "source": [
    "# CLEAN LABOUR BY GENDER"
   ]
  },
  {
   "cell_type": "code",
   "execution_count": null,
   "metadata": {},
   "outputs": [],
   "source": [
    "#directory of data\n",
    "dir = \"./data/3. labour force by sex, Malaysia, 1982–2022.xlsx\""
   ]
  },
  {
   "cell_type": "code",
   "execution_count": null,
   "metadata": {},
   "outputs": [],
   "source": [
    "# Load the Excel file\n",
    "excel_file = pd.ExcelFile(dir)\n",
    "\n",
    "# Get sheet names\n",
    "sheet_names = excel_file.sheet_names\n",
    "\n",
    "# Convert each sheet to a list\n",
    "data2 = {}\n",
    "for sheet_name in sheet_names:\n",
    "    data2[sheet_name] = pd.read_excel(excel_file, sheet_name=sheet_name).values.tolist()\n"
   ]
  },
  {
   "cell_type": "code",
   "execution_count": null,
   "metadata": {},
   "outputs": [],
   "source": [
    "def extract_sheet2(sheet):\n",
    "    clean_df = pd.DataFrame()\n",
    "    sheet.pop(6)\n",
    "    clean_sheet = np.rot90(sheet[5::])[0:-1]\n",
    "    for index in range(len(clean_sheet)):\n",
    "        header = clean_sheet[index][0].rstrip()\n",
    "        header = \"Year\" if header == 'nan' else header \n",
    "        clean_df[header] = clean_sheet[index][1::]\n",
    "    return clean_df"
   ]
  },
  {
   "cell_type": "code",
   "execution_count": null,
   "metadata": {},
   "outputs": [],
   "source": [
    "clean_data2 = {}\n",
    "for sheet_name, sheet_values in data2.items():\n",
    "    df = extract_sheet2(sheet_values)\n",
    "    clean_data2[sheet_name] = df"
   ]
  },
  {
   "cell_type": "code",
   "execution_count": null,
   "metadata": {},
   "outputs": [],
   "source": [
    "with pd.ExcelWriter('./clean/labour-by-gender.xlsx') as writer:\n",
    "    for sheet_name, df in clean_data2.items():\n",
    "        df.to_excel(writer, sheet_name=sheet_name, index=False)"
   ]
  },
  {
   "cell_type": "markdown",
   "metadata": {},
   "source": [
    "# CLEAN EMPLOYED PERSONS BY INDUSTRY"
   ]
  },
  {
   "cell_type": "code",
   "execution_count": 1,
   "metadata": {},
   "outputs": [],
   "source": [
    "import re\n",
    "import numpy as np\n",
    "import pandas as pd"
   ]
  },
  {
   "cell_type": "code",
   "execution_count": 2,
   "metadata": {},
   "outputs": [],
   "source": [
    "dir = \"./data/4. Employed persons by industry 1982–2000.xlsx\""
   ]
  },
  {
   "cell_type": "code",
   "execution_count": 3,
   "metadata": {},
   "outputs": [],
   "source": [
    "# Load the Excel file\n",
    "excel_file = pd.ExcelFile(dir)\n",
    "\n",
    "# Get sheet names\n",
    "sheet_names = excel_file.sheet_names\n",
    "\n",
    "# Convert each sheet to a list\n",
    "data = {}\n",
    "for sheet_name in sheet_names:\n",
    "    data[sheet_name] = pd.read_excel(excel_file, sheet_name=sheet_name).values.tolist()"
   ]
  },
  {
   "cell_type": "code",
   "execution_count": 4,
   "metadata": {},
   "outputs": [],
   "source": [
    "old_industry_dict = {\n",
    "    'A': 'Agriculture, forestry, livestock and fishing',\n",
    "    'B': 'Mining and quarrying',\n",
    "    'C': 'Manufacturing',\n",
    "    'D': 'Electricity, gas and water',\n",
    "    'E': 'Construction',\n",
    "    'F': 'Wholesale and retail trade, restaurants and hotels',\n",
    "    'G': 'Transport, storage and communications',\n",
    "    'H': 'Finance, insurance, real estate and business services',\n",
    "    'I': 'Community, social and personal services'\n",
    "}\n",
    "old_headers = list(old_industry_dict.values())\n",
    "old_headers.insert(0,\"Year\")\n",
    "old_headers.insert(1,\"Total\")\n",
    "\n",
    "middle_industry_dict = {\n",
    "    'A': 'Agriculture, hunting and forestry',\n",
    "    'B': 'Fishing',\n",
    "    'C': 'Mining and quarrying',\n",
    "    'D': 'Manufacturing',\n",
    "    'E': 'Electricity, gas and water supply',\n",
    "    'F': 'Construction',\n",
    "    'G': 'Wholesale and retail trade; repair of motor vehicles, motorcycles and personal and household goods',\n",
    "    'H': 'Hotels and restaurants',\n",
    "    'I': 'Transport, storage and communications',\n",
    "    'J': 'Financial intermediation',\n",
    "    'K': 'Real estate, renting and business activities',\n",
    "    'L': 'Public administration and defence; compulsory social security',\n",
    "    'M': 'Education',\n",
    "    'N': 'Health and social work',\n",
    "    'O': 'Other community, social and personal service activities',\n",
    "    'P': 'Private households with employed persons'\n",
    "}\n",
    "middle_headers = list(middle_industry_dict.values())\n",
    "middle_headers.insert(0,\"Year\")\n",
    "middle_headers.insert(1,\"Total\")\n",
    "\n",
    "new_industry_dict = {\n",
    "    'A': 'Agriculture, forestry and fishing',\n",
    "    'B': 'Mining and quarrying',\n",
    "    'C': 'Manufacturing',\n",
    "    'D': 'Electricity, gas, steam and air conditioning supply',\n",
    "    'E': 'Water supply; sewerage, waste management and remediation activities',\n",
    "    'F': 'Construction',\n",
    "    'G': 'Wholesale and retail trade, repair of motor vehicles and motorcycles',\n",
    "    'H': 'Transportation and storage',\n",
    "    'I': 'Accommodation and food service activities',\n",
    "    'J': 'Information and communication',\n",
    "    'K': 'Financial and insurance/takaful activities',\n",
    "    'L': 'Real estate activities',\n",
    "    'M': 'Professional, scientific and technical activities',\n",
    "    'N': 'Administrative and support service activities',\n",
    "    'O': 'Public administration and defence; compulsory social security',\n",
    "    'P': 'Education',\n",
    "    'Q': 'Human health and social work activities',\n",
    "    'R': 'Arts, entertainment and recreation',\n",
    "    'S': 'Others service activities',\n",
    "    'T': 'Activities of households as employers'\n",
    "}\n",
    "new_headers = list(new_industry_dict.values())\n",
    "new_headers.insert(0,\"Year\")\n",
    "new_headers.insert(1,\"Total\")\n"
   ]
  },
  {
   "cell_type": "code",
   "execution_count": 5,
   "metadata": {},
   "outputs": [],
   "source": [
    "def extract_old(sheet_name, sheet_value):\n",
    "    clean_df = pd.DataFrame()\n",
    "    clean_sheet = pd.DataFrame()\n",
    "    if re.search(\"1982-2000$\", sheet_name):\n",
    "        clean_sheet = np.rot90(sheet_value[6:23], k=3)[1::]\n",
    "        headers = old_headers\n",
    "    elif re.search(\"2001-2009$\", sheet_name):\n",
    "        clean_sheet = np.rot90(sheet_value[6:15], k=3)[1::]\n",
    "        headers = middle_headers\n",
    "    elif re.search(\"2010-2022$\", sheet_name):\n",
    "        clean_sheet = np.rot90(sheet_value[5:18], k=3)[1::]\n",
    "        headers = new_headers\n",
    "    elif re.search(\"1984-2000$\", sheet_name):\n",
    "        clean_sheet = np.rot90(sheet_value[6:21], k=3)[1::]\n",
    "        headers = old_headers\n",
    "    elif re.search(\"2011-2022$\", sheet_name):\n",
    "        clean_sheet = np.rot90(sheet_value[6:18], k=3)[1::]\n",
    "        headers = new_headers\n",
    "\n",
    "    for index in range(len(clean_sheet)):\n",
    "        header=headers[index]\n",
    "        clean_df[header] = np.flip(clean_sheet[index], axis=0)\n",
    "\n",
    "    return clean_df"
   ]
  },
  {
   "cell_type": "code",
   "execution_count": 6,
   "metadata": {},
   "outputs": [],
   "source": [
    "clean_data = {}\n",
    "for sheet_name, sheet_values in data.items():\n",
    "    df = extract_old(sheet_name,sheet_values)\n",
    "    clean_data[sheet_name] = df"
   ]
  },
  {
   "cell_type": "code",
   "execution_count": 7,
   "metadata": {},
   "outputs": [],
   "source": [
    "with pd.ExcelWriter('./clean/employed_persons_by_industry.xlsx') as writer:\n",
    "    for sheet_name, df in clean_data.items():\n",
    "        df.to_excel(writer, sheet_name=sheet_name, index=False)"
   ]
  },
  {
   "cell_type": "markdown",
   "metadata": {},
   "source": [
    "# CALCULATE PERCENT FOR EMPLOYED PERSONS BY INDUSTRY"
   ]
  },
  {
   "cell_type": "code",
   "execution_count": 1,
   "metadata": {},
   "outputs": [],
   "source": [
    "import re\n",
    "import numpy as np\n",
    "import pandas as pd"
   ]
  },
  {
   "cell_type": "code",
   "execution_count": 2,
   "metadata": {},
   "outputs": [],
   "source": [
    "#directory of data\n",
    "dir = \"./clean/employed_persons_by_industry.xlsx\""
   ]
  },
  {
   "cell_type": "code",
   "execution_count": 3,
   "metadata": {},
   "outputs": [],
   "source": [
    "# Load the Excel file\n",
    "excel_file = pd.ExcelFile(dir)\n",
    "data = pd.read_excel(dir, sheet_name=None)"
   ]
  },
  {
   "cell_type": "code",
   "execution_count": 16,
   "metadata": {},
   "outputs": [],
   "source": [
    "def calculate_percentage(df):\n",
    "    # Calculate percentages for each industry based on the 'Total' column\n",
    "    industry_columns = df.columns[2:]  # Exclude the 'Year' and total column\n",
    "    df[industry_columns] = df[industry_columns].apply(pd.to_numeric, errors='coerce')\n",
    "\n",
    "    df_percentages = df[industry_columns].div(df['Total'], axis=0) * 100\n",
    "    \n",
    "    # Insert the calculated percentages into a new DataFrame\n",
    "    result_df = pd.concat([df['Year'],df['Total'], df_percentages], axis=1)\n",
    "    \n",
    "    return result_df"
   ]
  },
  {
   "cell_type": "code",
   "execution_count": 17,
   "metadata": {},
   "outputs": [],
   "source": [
    "clean_data = {}\n",
    "for sheet_name, sheet_values in data.items():\n",
    "    df = calculate_percentage(sheet_values)\n",
    "    clean_data[sheet_name] = df"
   ]
  },
  {
   "cell_type": "code",
   "execution_count": 18,
   "metadata": {},
   "outputs": [],
   "source": [
    "with pd.ExcelWriter('./clean/percentage_employed_persons_by_industry.xlsx') as writer:\n",
    "    for sheet_name, df in clean_data.items():\n",
    "        df.to_excel(writer, sheet_name=sheet_name, index=False)"
   ]
  }
 ],
 "metadata": {
  "kernelspec": {
   "display_name": "Python 3",
   "language": "python",
   "name": "python3"
  },
  "language_info": {
   "codemirror_mode": {
    "name": "ipython",
    "version": 3
   },
   "file_extension": ".py",
   "mimetype": "text/x-python",
   "name": "python",
   "nbconvert_exporter": "python",
   "pygments_lexer": "ipython3",
   "version": "3.11.3"
  }
 },
 "nbformat": 4,
 "nbformat_minor": 2
}
